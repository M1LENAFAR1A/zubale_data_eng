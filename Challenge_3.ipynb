{
 "cells": [
  {
   "cell_type": "markdown",
   "metadata": {},
   "source": [
    "1 - The date with max amount of orders\n"
   ]
  },
  {
   "cell_type": "code",
   "execution_count": null,
   "metadata": {
    "vscode": {
     "languageId": "plaintext"
    }
   },
   "outputs": [],
   "source": [
    "SELECT created_date, COUNT(*) AS total_orders\n",
    "FROM orders\n",
    "GROUP BY created_date\n",
    "ORDER BY total_orders DESC\n",
    "LIMIT 1;\n"
   ]
  },
  {
   "cell_type": "markdown",
   "metadata": {},
   "source": [
    "2 - The most demanded product"
   ]
  },
  {
   "cell_type": "code",
   "execution_count": null,
   "metadata": {
    "vscode": {
     "languageId": "plaintext"
    }
   },
   "outputs": [],
   "source": [
    "SELECT p.name AS product_name, SUM(o.quantity) AS total_quantity, SUM(o.quantity * p.price) AS total_revenue\n",
    "FROM orders o\n",
    "JOIN products p ON o.product_id = p.id\n",
    "GROUP BY p.name\n",
    "ORDER BY total_quantity DESC\n",
    "LIMIT 1;\n"
   ]
  },
  {
   "cell_type": "markdown",
   "metadata": {},
   "source": [
    "3 - The top 3 most demanded categories"
   ]
  },
  {
   "cell_type": "code",
   "execution_count": null,
   "metadata": {
    "vscode": {
     "languageId": "plaintext"
    }
   },
   "outputs": [],
   "source": [
    "SELECT p.category, SUM(o.quantity) AS total_quantity\n",
    "FROM orders o\n",
    "JOIN products p ON o.product_id = p.id\n",
    "GROUP BY p.category\n",
    "ORDER BY total_quantity DESC\n",
    "LIMIT 3;\n"
   ]
  }
 ],
 "metadata": {
  "language_info": {
   "name": "python"
  }
 },
 "nbformat": 4,
 "nbformat_minor": 2
}
