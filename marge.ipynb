{
 "cells": [
  {
   "cell_type": "code",
   "execution_count": 6,
   "metadata": {},
   "outputs": [
    {
     "name": "stdout",
     "output_type": "stream",
     "text": [
      "Arquivo 'order_full_information.csv' criado com sucesso!\n"
     ]
    }
   ],
   "source": [
    "# Desafio 1: Consolidação de arquivos CSV\n",
    "\n",
    "# 1. Importando as bibliotecas necessárias\n",
    "import pandas as pd  # Para manipulação de dados em tabelas\n",
    "\n",
    "# 2. Carregando os arquivos CSV\n",
    "# Lendo o arquivo de produtos\n",
    "products_df = pd.read_csv('products.csv')\n",
    "# Lendo o arquivo de pedidos\n",
    "orders_df = pd.read_csv('orders.csv')\n",
    "\n",
    "# 3. Realizando o Merge entre as tabelas\n",
    "# Unimos os dados usando a coluna 'product_id' de orders e 'id' de products\n",
    "merged_df = pd.merge(\n",
    "    orders_df,         # DataFrame de pedidos\n",
    "    products_df,       # DataFrame de produtos\n",
    "    left_on='product_id',  # Coluna de referência em orders\n",
    "    right_on='id'         # Coluna de referência em products\n",
    ")\n",
    "\n",
    "# 4. Calculando o preço total\n",
    "# Criamos uma nova coluna chamada 'total_price'\n",
    "merged_df['total_price'] = merged_df['quantity'] * merged_df['price']\n",
    "\n",
    "# 5. Selecionando e renomeando as colunas necessárias\n",
    "# Escolhemos apenas as colunas importantes para o arquivo final\n",
    "final_df = merged_df[[\n",
    "    'created_date',   # Data do pedido\n",
    "    'id_x',           # ID do pedido (de orders)\n",
    "    'name',           # Nome do produto (de products)\n",
    "    'quantity',       # Quantidade do pedido\n",
    "    'total_price'     # Preço total calculado\n",
    "]]\n",
    "\n",
    "# Renomeamos as colunas para o formato desejado\n",
    "final_df.columns = [\n",
    "    'order_created_date',\n",
    "    'order_id',\n",
    "    'product_name',\n",
    "    'quantity',\n",
    "    'total_price'\n",
    "]\n",
    "\n",
    "# 6. Salvando o resultado em um novo arquivo CSV\n",
    "final_df.to_csv('order_full_information.csv', index=False)\n",
    "\n",
    "print(\"Arquivo 'order_full_information.csv' criado com sucesso!\")\n"
   ]
  },
  {
   "cell_type": "code",
   "execution_count": 5,
   "metadata": {},
   "outputs": [
    {
     "name": "stdout",
     "output_type": "stream",
     "text": [
      "   order_created_date  order_id product_name  quantity  total_price\n",
      "0        '2024-12-01'         1   Product_11         1        69.06\n",
      "1        '2024-12-01'         2   Product_17         2       197.02\n",
      "2        '2024-12-01'         3   Product_19         1        51.94\n",
      "3        '2024-12-01'         4   Product_12         1        50.99\n",
      "4        '2024-12-01'         5   Product_11         2       138.12\n",
      "5        '2024-12-01'         6   Product_17         1        98.51\n",
      "6        '2024-12-01'         7    Product_5         5       222.95\n",
      "7        '2024-12-01'         8    Product_5         4       178.36\n",
      "8        '2024-12-02'         9    Product_5         2        89.18\n",
      "9        '2024-12-02'        10    Product_1         4       370.20\n",
      "10       '2024-12-02'        11   Product_15         5       488.60\n",
      "11       '2024-12-02'        12    Product_7         4       399.84\n",
      "12       '2024-12-02'        13   Product_13         3        46.59\n",
      "13       '2024-12-03'        14   Product_13         5        77.65\n",
      "14       '2024-12-03'        15    Product_5         3       133.77\n",
      "15       '2024-12-03'        16    Product_2         2        86.22\n",
      "16       '2024-12-05'        17   Product_17         1        98.51\n",
      "17       '2024-12-05'        18    Product_6         2        32.54\n",
      "18       '2024-12-05'        19    Product_1         4       370.20\n",
      "19       '2024-12-05'        20    Product_5         1        44.59\n",
      "20       '2024-12-05'        21    Product_7         4       399.84\n",
      "21       '2024-12-05'        22    Product_3         2       118.04\n",
      "22       '2024-12-06'        23   Product_18         2        20.22\n",
      "23       '2024-12-06'        24    Product_5         1        44.59\n",
      "24       '2024-12-06'        25   Product_20         3       113.55\n",
      "25       '2024-12-06'        26   Product_20         4       151.40\n",
      "26       '2024-12-06'        27   Product_19         5       259.70\n",
      "27       '2024-12-06'        28   Product_20         5       189.25\n",
      "28       '2024-12-06'        29   Product_11         1        69.06\n",
      "29       '2024-12-06'        30   Product_18         2        20.22\n",
      "30       '2024-12-06'        31    Product_5         1        44.59\n",
      "31       '2024-12-06'        32    Product_4         5       248.25\n",
      "32       '2024-12-07'        33   Product_18         4        40.44\n",
      "33       '2024-12-07'        34   Product_18         4        40.44\n",
      "34       '2024-12-07'        35    Product_7         3       299.88\n",
      "35       '2024-12-07'        36   Product_13         5        77.65\n",
      "36       '2024-12-09'        37   Product_12         3       152.97\n",
      "37       '2024-12-09'        38   Product_17         1        98.51\n",
      "38       '2024-12-09'        39   Product_14         4       182.24\n",
      "39       '2024-12-09'        40   Product_19         4       207.76\n",
      "40       '2024-12-09'        41   Product_17         5       492.55\n",
      "41       '2024-12-09'        42   Product_19         4       207.76\n",
      "42       '2024-12-09'        43   Product_14         3       136.68\n",
      "43       '2024-12-10'        44    Product_4         2        99.30\n",
      "44       '2024-12-10'        45    Product_5         3       133.77\n",
      "45       '2024-12-10'        46    Product_8         3       140.31\n",
      "46       '2024-12-10'        47   Product_10         1        88.24\n",
      "47       '2024-12-10'        48   Product_14         3       136.68\n",
      "48       '2024-12-10'        49    Product_6         1        16.27\n",
      "49       '2024-12-10'        50   Product_19         5       259.70\n"
     ]
    }
   ],
   "source": [
    "import pandas as pd\n",
    "\n",
    "result = pd.read_csv('order_full_information.csv')\n",
    "\n",
    "print(result)"
   ]
  }
 ],
 "metadata": {
  "kernelspec": {
   "display_name": "Python 3",
   "language": "python",
   "name": "python3"
  },
  "language_info": {
   "codemirror_mode": {
    "name": "ipython",
    "version": 3
   },
   "file_extension": ".py",
   "mimetype": "text/x-python",
   "name": "python",
   "nbconvert_exporter": "python",
   "pygments_lexer": "ipython3",
   "version": "3.9.6"
  }
 },
 "nbformat": 4,
 "nbformat_minor": 2
}
