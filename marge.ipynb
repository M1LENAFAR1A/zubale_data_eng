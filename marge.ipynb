{
 "cells": [
  {
   "cell_type": "code",
   "execution_count": 6,
   "metadata": {},
   "outputs": [
    {
     "name": "stdout",
     "output_type": "stream",
     "text": [
      "Arquivo 'order_full_information.csv' criado com sucesso!\n"
     ]
    }
   ],
   "source": [
    "# Desafio 1: Consolidação de arquivos CSV\n",
    "\n",
    "# 1. Importando as bibliotecas necessárias\n",
    "import pandas as pd  # Para manipulação de dados em tabelas\n",
    "\n",
    "# 2. Carregando os arquivos CSV\n",
    "# Lendo o arquivo de produtos\n",
    "products_df = pd.read_csv('products.csv')\n",
    "# Lendo o arquivo de pedidos\n",
    "orders_df = pd.read_csv('orders.csv')\n",
    "\n",
    "# 3. Realizando o Merge entre as tabelas\n",
    "# Unimos os dados usando a coluna 'product_id' de orders e 'id' de products\n",
    "merged_df = pd.merge(\n",
    "    orders_df,         # DataFrame de pedidos\n",
    "    products_df,       # DataFrame de produtos\n",
    "    left_on='product_id',  # Coluna de referência em orders\n",
    "    right_on='id'         # Coluna de referência em products\n",
    ")\n",
    "\n",
    "# 4. Calculando o preço total\n",
    "# Criamos uma nova coluna chamada 'total_price'\n",
    "merged_df['total_price'] = merged_df['quantity'] * merged_df['price']\n",
    "\n",
    "# 5. Selecionando e renomeando as colunas necessárias\n",
    "# Escolhemos apenas as colunas importantes para o arquivo final\n",
    "final_df = merged_df[[\n",
    "    'created_date',   # Data do pedido\n",
    "    'id_x',           # ID do pedido (de orders)\n",
    "    'name',           # Nome do produto (de products)\n",
    "    'quantity',       # Quantidade do pedido\n",
    "    'total_price'     # Preço total calculado\n",
    "]]\n",
    "\n",
    "# Renomeamos as colunas para o formato desejado\n",
    "final_df.columns = [\n",
    "    'order_created_date',\n",
    "    'order_id',\n",
    "    'product_name',\n",
    "    'quantity',\n",
    "    'total_price'\n",
    "]\n",
    "\n",
    "# 6. Salvando o resultado em um novo arquivo CSV\n",
    "final_df.to_csv('order_full_information.csv', index=False)\n",
    "\n",
    "print(\"Arquivo 'order_full_information.csv' criado com sucesso!\")\n"
   ]
  }
 ],
 "metadata": {
  "kernelspec": {
   "display_name": "Python 3",
   "language": "python",
   "name": "python3"
  },
  "language_info": {
   "codemirror_mode": {
    "name": "ipython",
    "version": 3
   },
   "file_extension": ".py",
   "mimetype": "text/x-python",
   "name": "python",
   "nbconvert_exporter": "python",
   "pygments_lexer": "ipython3",
   "version": "3.9.6"
  }
 },
 "nbformat": 4,
 "nbformat_minor": 2
}
